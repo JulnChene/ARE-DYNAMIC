{
 "cells": [
  {
   "cell_type": "code",
   "execution_count": 67,
   "metadata": {},
   "outputs": [
    {
     "data": {
      "text/plain": [
       "[0, 0, 1, 0, 0, 0, 0, 0, 0, 0, 0, 0, 0, 0, 0, 0, 0, 0, 0, 0]"
      ]
     },
     "execution_count": 67,
     "metadata": {},
     "output_type": "execute_result"
    }
   ],
   "source": [
    "import random\n",
    "def create_popu(nb_pop,nb_inf):\n",
    "    popu = []\n",
    "    num_inf = set()\n",
    "    nb_inf_set = 0\n",
    "    i = 0\n",
    "    for i in range(0,nb_inf):\n",
    "        num_inf.add(random.randint(0,nb_pop))\n",
    "        nb_inf_set+=1\n",
    "        while nb_inf_set>len(num_inf):\n",
    "            num_inf.add(random.randint(0,nb_pop))\n",
    "    for i in range(0,nb_pop):\n",
    "        if i in num_inf:\n",
    "            popu.append(1)\n",
    "        else:\n",
    "            popu.append(0)\n",
    "            \n",
    "    return popu\n",
    "\n",
    "create_popu(20,1)\n",
    "            \n",
    "  "
   ]
  },
  {
   "cell_type": "code",
   "execution_count": 60,
   "metadata": {},
   "outputs": [
    {
     "data": {
      "text/plain": [
       "[20, 5]"
      ]
     },
     "execution_count": 60,
     "metadata": {},
     "output_type": "execute_result"
    }
   ],
   "source": [
    "def stat_popu(popu):\n",
    "    stat_pop = []\n",
    "    nb_pop = 0\n",
    "    nb_inf = 0\n",
    "    for p in popu:\n",
    "        nb_pop += 1\n",
    "        if p == 1:\n",
    "            nb_inf += 1\n",
    "    stat_pop.append(nb_pop)\n",
    "    stat_pop.append(nb_inf)\n",
    "    return stat_pop\n",
    "    \n",
    "stat_popu(create_popu(20,5))"
   ]
  },
  {
   "cell_type": "code",
   "execution_count": 76,
   "metadata": {},
   "outputs": [
    {
     "data": {
      "text/plain": [
       "[0, 0, 0, 0, 1, 0, 0, 0, 0, 1, 0, 0, 0, 1, 0, 1, 0, 0, 0, 0]"
      ]
     },
     "execution_count": 76,
     "metadata": {},
     "output_type": "execute_result"
    }
   ],
   "source": [
    "import random\n",
    "def update_population(popu,tx_inf):\n",
    "    new_popu = []\n",
    "    stat_pop = stat_popu(popu)\n",
    "    new_inf = 0\n",
    "    for i in range(0,stat_pop[1]):\n",
    "            if (random.randint(1,100) <= tx_inf):\n",
    "                new_inf +=1\n",
    "    new_popu = create_popu(stat_pop[0],stat_pop[1]+new_inf)\n",
    "    return new_popu\n",
    "\n",
    "update_population([0, 0, 0, 0, 1, 0, 0, 0, 0, 1, 0, 1, 0, 1, 0, 0, 0, 0, 0, 0],30)\n",
    "#stat_popu(update_population([0, 0, 1, 0, 0, 0, 0, 0, 0, 0, 0, 0, 0, 0, 0, 0, 0, 0, 0, 0],30))\n"
   ]
  },
  {
   "cell_type": "code",
   "execution_count": 22,
   "metadata": {},
   "outputs": [
    {
     "data": {
      "image/png": "[encoded data removed]",
      "text/plain": [
       "<matplotlib.figure.Figure at 0x7f98aafb6e50>"
      ]
     },
     "metadata": {},
     "output_type": "display_data"
    }
   ],
   "source": [
    "# -*- coding: utf-8 -*-\n",
    "\n",
    "import matplotlib.pyplot as plt\n",
    "\n",
    "plt.plot([1,2,3])\n",
    "plt.ylabel('Label 1')\n",
    "plt.show()"
   ]
  },
  {
   "cell_type": "code",
   "execution_count": null,
   "metadata": {},
   "outputs": [],
   "source": []
  }
 ],
 "metadata": {
  "kernelspec": {
   "display_name": "Python 3",
   "language": "python",
   "name": "python3"
  },
  "language_info": {
   "codemirror_mode": {
    "name": "ipython",
    "version": 2
   },
   "file_extension": ".py",
   "mimetype": "text/x-python",
   "name": "python",
   "nbconvert_exporter": "python",
   "pygments_lexer": "ipython2",
   "version": "2.7.13"
  }
 },
 "nbformat": 4,
 "nbformat_minor": 2
}
